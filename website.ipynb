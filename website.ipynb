{
 "cells": [
  {
   "cell_type": "markdown",
   "metadata": {},
   "source": [
    "# 16825: Learning For 3D Vision\n",
    "## Project 2 Results - vinayakp\n",
    "\n",
    "### Q1. Loss Functions\n",
    "### 1.1 Fitting Voxel Grid\n",
    "Source Voxel </br>   ![SegmentLocal](website_results/Q1/ground_truth_voxel.gif \"segment\")    \n",
    "Target Voxel </br>   ![SegmentLocal](website_results/Q1/optimized_voxel.gif \"segment\")   \n",
    "\n",
    "### 1.2 Fitting Point Cloud\n",
    "Source Point Cloud </br>   ![SegmentLocal](website_results/Q1/ground_truth_pointcloud.gif \"segment\")    \n",
    "Target Point Cloud </br>   ![SegmentLocal](website_results/Q1/optimized_pointcloud.gif \"segment\")   \n",
    "\n",
    "### 1.3 Fitting Mesh\n",
    "Source Mesh </br>   ![SegmentLocal](website_results/Q1/ground_truth_mesh.gif \"segment\")    \n",
    "Target Mesh </br>   ![SegmentLocal](website_results/Q1/optimized_mesh.gif \"segment\")   "
   ]
  }
 ],
 "metadata": {
  "language_info": {
   "name": "python"
  }
 },
 "nbformat": 4,
 "nbformat_minor": 2
}
